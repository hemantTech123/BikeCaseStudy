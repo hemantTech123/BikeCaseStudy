{
 "cells": [
  {
   "cell_type": "markdown",
   "id": "afd9af32-cd74-4b05-a595-f8acc67a36c1",
   "metadata": {},
   "source": [
    "# Boom BiKe Assignment\n",
    "## Problem Statement:\n",
    "\n",
    "A bike-sharing system is a service in which bikes are made available for shared use to individuals on a short term basis for a price or free. Many bike share systems allow people to borrow a bike from a \"dock\" which is usually computer-controlled wherein the user enters the payment information, and the system unlocks it. This bike can then be returned to another dock belonging to the same system.\r\n",
    "\r\n",
    "\r\n",
    "A US bike-sharing provider BoomBikes has recently suffered considerable dips in their revenues due to the ongoing Corona pandemic. The company is finding it very difficult to sustain in the current market scenario. So, it has decided to come up with a mindful business plan to be able to accelerate its revenue as soon as the ongoing lockdown comes to an end, and the economy restores to a healthy state. \n",
    "\n",
    "**So interpretation is important!**"
   ]
  },
  {
   "cell_type": "markdown",
   "id": "24aeae20-4727-4b0a-b581-aefff3b25c24",
   "metadata": {},
   "source": [
    "## Step 1: Reading and Understanding the Data\n",
    "\n",
    "Let us first import NumPy and Pandas and read the days dataset"
   ]
  },
  {
   "cell_type": "code",
   "execution_count": 1,
   "id": "f7719604-431d-4a43-b862-3948be469977",
   "metadata": {},
   "outputs": [],
   "source": [
    "import pandas as pd\n",
    "import numpy as np\n",
    "import seaborn as sns #data visualization"
   ]
  },
  {
   "cell_type": "code",
   "execution_count": 2,
   "id": "aa89eeca-55c7-42e2-99c5-7caaa15506c0",
   "metadata": {},
   "outputs": [
    {
     "data": {
      "text/html": [
       "<div>\n",
       "<style scoped>\n",
       "    .dataframe tbody tr th:only-of-type {\n",
       "        vertical-align: middle;\n",
       "    }\n",
       "\n",
       "    .dataframe tbody tr th {\n",
       "        vertical-align: top;\n",
       "    }\n",
       "\n",
       "    .dataframe thead th {\n",
       "        text-align: right;\n",
       "    }\n",
       "</style>\n",
       "<table border=\"1\" class=\"dataframe\">\n",
       "  <thead>\n",
       "    <tr style=\"text-align: right;\">\n",
       "      <th></th>\n",
       "      <th>instant</th>\n",
       "      <th>dteday</th>\n",
       "      <th>season</th>\n",
       "      <th>yr</th>\n",
       "      <th>mnth</th>\n",
       "      <th>holiday</th>\n",
       "      <th>weekday</th>\n",
       "      <th>workingday</th>\n",
       "      <th>weathersit</th>\n",
       "      <th>temp</th>\n",
       "      <th>atemp</th>\n",
       "      <th>hum</th>\n",
       "      <th>windspeed</th>\n",
       "      <th>casual</th>\n",
       "      <th>registered</th>\n",
       "      <th>cnt</th>\n",
       "    </tr>\n",
       "  </thead>\n",
       "  <tbody>\n",
       "    <tr>\n",
       "      <th>0</th>\n",
       "      <td>1</td>\n",
       "      <td>01-01-2018</td>\n",
       "      <td>1</td>\n",
       "      <td>0</td>\n",
       "      <td>1</td>\n",
       "      <td>0</td>\n",
       "      <td>6</td>\n",
       "      <td>0</td>\n",
       "      <td>2</td>\n",
       "      <td>14.110847</td>\n",
       "      <td>18.18125</td>\n",
       "      <td>80.5833</td>\n",
       "      <td>10.749882</td>\n",
       "      <td>331</td>\n",
       "      <td>654</td>\n",
       "      <td>985</td>\n",
       "    </tr>\n",
       "    <tr>\n",
       "      <th>1</th>\n",
       "      <td>2</td>\n",
       "      <td>02-01-2018</td>\n",
       "      <td>1</td>\n",
       "      <td>0</td>\n",
       "      <td>1</td>\n",
       "      <td>0</td>\n",
       "      <td>0</td>\n",
       "      <td>0</td>\n",
       "      <td>2</td>\n",
       "      <td>14.902598</td>\n",
       "      <td>17.68695</td>\n",
       "      <td>69.6087</td>\n",
       "      <td>16.652113</td>\n",
       "      <td>131</td>\n",
       "      <td>670</td>\n",
       "      <td>801</td>\n",
       "    </tr>\n",
       "    <tr>\n",
       "      <th>2</th>\n",
       "      <td>3</td>\n",
       "      <td>03-01-2018</td>\n",
       "      <td>1</td>\n",
       "      <td>0</td>\n",
       "      <td>1</td>\n",
       "      <td>0</td>\n",
       "      <td>1</td>\n",
       "      <td>1</td>\n",
       "      <td>1</td>\n",
       "      <td>8.050924</td>\n",
       "      <td>9.47025</td>\n",
       "      <td>43.7273</td>\n",
       "      <td>16.636703</td>\n",
       "      <td>120</td>\n",
       "      <td>1229</td>\n",
       "      <td>1349</td>\n",
       "    </tr>\n",
       "    <tr>\n",
       "      <th>3</th>\n",
       "      <td>4</td>\n",
       "      <td>04-01-2018</td>\n",
       "      <td>1</td>\n",
       "      <td>0</td>\n",
       "      <td>1</td>\n",
       "      <td>0</td>\n",
       "      <td>2</td>\n",
       "      <td>1</td>\n",
       "      <td>1</td>\n",
       "      <td>8.200000</td>\n",
       "      <td>10.60610</td>\n",
       "      <td>59.0435</td>\n",
       "      <td>10.739832</td>\n",
       "      <td>108</td>\n",
       "      <td>1454</td>\n",
       "      <td>1562</td>\n",
       "    </tr>\n",
       "    <tr>\n",
       "      <th>4</th>\n",
       "      <td>5</td>\n",
       "      <td>05-01-2018</td>\n",
       "      <td>1</td>\n",
       "      <td>0</td>\n",
       "      <td>1</td>\n",
       "      <td>0</td>\n",
       "      <td>3</td>\n",
       "      <td>1</td>\n",
       "      <td>1</td>\n",
       "      <td>9.305237</td>\n",
       "      <td>11.46350</td>\n",
       "      <td>43.6957</td>\n",
       "      <td>12.522300</td>\n",
       "      <td>82</td>\n",
       "      <td>1518</td>\n",
       "      <td>1600</td>\n",
       "    </tr>\n",
       "  </tbody>\n",
       "</table>\n",
       "</div>"
      ],
      "text/plain": [
       "   instant      dteday  season  yr  mnth  holiday  weekday  workingday  \\\n",
       "0        1  01-01-2018       1   0     1        0        6           0   \n",
       "1        2  02-01-2018       1   0     1        0        0           0   \n",
       "2        3  03-01-2018       1   0     1        0        1           1   \n",
       "3        4  04-01-2018       1   0     1        0        2           1   \n",
       "4        5  05-01-2018       1   0     1        0        3           1   \n",
       "\n",
       "   weathersit       temp     atemp      hum  windspeed  casual  registered  \\\n",
       "0           2  14.110847  18.18125  80.5833  10.749882     331         654   \n",
       "1           2  14.902598  17.68695  69.6087  16.652113     131         670   \n",
       "2           1   8.050924   9.47025  43.7273  16.636703     120        1229   \n",
       "3           1   8.200000  10.60610  59.0435  10.739832     108        1454   \n",
       "4           1   9.305237  11.46350  43.6957  12.522300      82        1518   \n",
       "\n",
       "    cnt  \n",
       "0   985  \n",
       "1   801  \n",
       "2  1349  \n",
       "3  1562  \n",
       "4  1600  "
      ]
     },
     "execution_count": 2,
     "metadata": {},
     "output_type": "execute_result"
    }
   ],
   "source": [
    "# Load dataset\n",
    "file_path = 'day.csv'\n",
    "bike_data = pd.read_csv(file_path)\n",
    "#printing the data (first 5 rows)\n",
    "bike_data.head()"
   ]
  },
  {
   "cell_type": "code",
   "execution_count": 3,
   "id": "3e03a377-b678-4142-974a-d7aa4b1c79b5",
   "metadata": {},
   "outputs": [
    {
     "name": "stdout",
     "output_type": "stream",
     "text": [
      "<class 'pandas.core.frame.DataFrame'>\n",
      "RangeIndex: 730 entries, 0 to 729\n",
      "Data columns (total 16 columns):\n",
      " #   Column      Non-Null Count  Dtype  \n",
      "---  ------      --------------  -----  \n",
      " 0   instant     730 non-null    int64  \n",
      " 1   dteday      730 non-null    object \n",
      " 2   season      730 non-null    int64  \n",
      " 3   yr          730 non-null    int64  \n",
      " 4   mnth        730 non-null    int64  \n",
      " 5   holiday     730 non-null    int64  \n",
      " 6   weekday     730 non-null    int64  \n",
      " 7   workingday  730 non-null    int64  \n",
      " 8   weathersit  730 non-null    int64  \n",
      " 9   temp        730 non-null    float64\n",
      " 10  atemp       730 non-null    float64\n",
      " 11  hum         730 non-null    float64\n",
      " 12  windspeed   730 non-null    float64\n",
      " 13  casual      730 non-null    int64  \n",
      " 14  registered  730 non-null    int64  \n",
      " 15  cnt         730 non-null    int64  \n",
      "dtypes: float64(4), int64(11), object(1)\n",
      "memory usage: 91.4+ KB\n"
     ]
    }
   ],
   "source": [
    "bike_data.info()"
   ]
  },
  {
   "cell_type": "code",
   "execution_count": 4,
   "id": "1d33a154-3223-4356-876e-fcb3565f12bd",
   "metadata": {},
   "outputs": [
    {
     "name": "stdout",
     "output_type": "stream",
     "text": [
      "(730, 16)\n"
     ]
    }
   ],
   "source": [
    "# Check the shape of df\n",
    "print(bike_data.shape)"
   ]
  },
  {
   "cell_type": "markdown",
   "id": "38591e57-0767-4f79-9a2a-a2558d6b7eb2",
   "metadata": {},
   "source": [
    "## Step 2: Preprocessing Steps"
   ]
  },
  {
   "cell_type": "code",
   "execution_count": 5,
   "id": "f89f66d6-0a27-43f7-b46a-cde38418a6a7",
   "metadata": {},
   "outputs": [],
   "source": [
    "# Drop unnecessary columns\n",
    "bike_data = bike_data.drop(['instant','dteday','casual', 'registered'], axis=1)\n",
    "#bike_data.head()"
   ]
  },
  {
   "cell_type": "code",
   "execution_count": 6,
   "id": "f0f23b53-33ae-4e21-b548-3609beb29890",
   "metadata": {},
   "outputs": [
    {
     "data": {
      "text/html": [
       "<div>\n",
       "<style scoped>\n",
       "    .dataframe tbody tr th:only-of-type {\n",
       "        vertical-align: middle;\n",
       "    }\n",
       "\n",
       "    .dataframe tbody tr th {\n",
       "        vertical-align: top;\n",
       "    }\n",
       "\n",
       "    .dataframe thead th {\n",
       "        text-align: right;\n",
       "    }\n",
       "</style>\n",
       "<table border=\"1\" class=\"dataframe\">\n",
       "  <thead>\n",
       "    <tr style=\"text-align: right;\">\n",
       "      <th></th>\n",
       "      <th>season</th>\n",
       "      <th>yr</th>\n",
       "      <th>mnth</th>\n",
       "      <th>holiday</th>\n",
       "      <th>weekday</th>\n",
       "      <th>workingday</th>\n",
       "      <th>weathersit</th>\n",
       "      <th>temp</th>\n",
       "      <th>atemp</th>\n",
       "      <th>hum</th>\n",
       "      <th>windspeed</th>\n",
       "      <th>cnt</th>\n",
       "    </tr>\n",
       "  </thead>\n",
       "  <tbody>\n",
       "    <tr>\n",
       "      <th>0</th>\n",
       "      <td>1</td>\n",
       "      <td>0</td>\n",
       "      <td>1</td>\n",
       "      <td>0</td>\n",
       "      <td>6</td>\n",
       "      <td>0</td>\n",
       "      <td>2</td>\n",
       "      <td>14</td>\n",
       "      <td>18</td>\n",
       "      <td>80</td>\n",
       "      <td>10</td>\n",
       "      <td>985</td>\n",
       "    </tr>\n",
       "    <tr>\n",
       "      <th>1</th>\n",
       "      <td>1</td>\n",
       "      <td>0</td>\n",
       "      <td>1</td>\n",
       "      <td>0</td>\n",
       "      <td>0</td>\n",
       "      <td>0</td>\n",
       "      <td>2</td>\n",
       "      <td>14</td>\n",
       "      <td>17</td>\n",
       "      <td>69</td>\n",
       "      <td>16</td>\n",
       "      <td>801</td>\n",
       "    </tr>\n",
       "    <tr>\n",
       "      <th>2</th>\n",
       "      <td>1</td>\n",
       "      <td>0</td>\n",
       "      <td>1</td>\n",
       "      <td>0</td>\n",
       "      <td>1</td>\n",
       "      <td>1</td>\n",
       "      <td>1</td>\n",
       "      <td>8</td>\n",
       "      <td>9</td>\n",
       "      <td>43</td>\n",
       "      <td>16</td>\n",
       "      <td>1349</td>\n",
       "    </tr>\n",
       "    <tr>\n",
       "      <th>3</th>\n",
       "      <td>1</td>\n",
       "      <td>0</td>\n",
       "      <td>1</td>\n",
       "      <td>0</td>\n",
       "      <td>2</td>\n",
       "      <td>1</td>\n",
       "      <td>1</td>\n",
       "      <td>8</td>\n",
       "      <td>10</td>\n",
       "      <td>59</td>\n",
       "      <td>10</td>\n",
       "      <td>1562</td>\n",
       "    </tr>\n",
       "    <tr>\n",
       "      <th>4</th>\n",
       "      <td>1</td>\n",
       "      <td>0</td>\n",
       "      <td>1</td>\n",
       "      <td>0</td>\n",
       "      <td>3</td>\n",
       "      <td>1</td>\n",
       "      <td>1</td>\n",
       "      <td>9</td>\n",
       "      <td>11</td>\n",
       "      <td>43</td>\n",
       "      <td>12</td>\n",
       "      <td>1600</td>\n",
       "    </tr>\n",
       "  </tbody>\n",
       "</table>\n",
       "</div>"
      ],
      "text/plain": [
       "   season  yr  mnth  holiday  weekday  workingday  weathersit  temp  atemp  \\\n",
       "0       1   0     1        0        6           0           2    14     18   \n",
       "1       1   0     1        0        0           0           2    14     17   \n",
       "2       1   0     1        0        1           1           1     8      9   \n",
       "3       1   0     1        0        2           1           1     8     10   \n",
       "4       1   0     1        0        3           1           1     9     11   \n",
       "\n",
       "   hum  windspeed   cnt  \n",
       "0   80         10   985  \n",
       "1   69         16   801  \n",
       "2   43         16  1349  \n",
       "3   59         10  1562  \n",
       "4   43         12  1600  "
      ]
     },
     "execution_count": 6,
     "metadata": {},
     "output_type": "execute_result"
    }
   ],
   "source": [
    "# Creae the dummy variables for all categorical valurables One-hot encoding for categorical variables\n",
    "bike_data = pd.get_dummies(bike_data, drop_first=True)\n",
    "bike_data=bike_data.astype(int)\n",
    "bike_data.head()"
   ]
  },
  {
   "cell_type": "markdown",
   "id": "9124129e-0896-4fc1-bef9-e21e3a60ba40",
   "metadata": {},
   "source": [
    "## Step 3: EDA"
   ]
  },
  {
   "cell_type": "code",
   "execution_count": 7,
   "id": "a31ce85e-889a-4911-b457-8fedff97cbe6",
   "metadata": {},
   "outputs": [
    {
     "name": "stdout",
     "output_type": "stream",
     "text": [
      "Number of Columns: 12\n",
      "Number of Rows: 730\n",
      "Number of missing values: 0\n",
      "Number of unique values: 901\n",
      "Number of duplicates: 0\n"
     ]
    }
   ],
   "source": [
    "# Few Basic information about the Bike data\n",
    "\n",
    "## Number of rows\n",
    "print('Number of Columns:',bike_data.shape[1])\n",
    "# Number of columns\n",
    "print('Number of Rows:',bike_data.shape[0])\n",
    "## Number of missing values\n",
    "print('Number of missing values:',bike_data.isnull().sum().sum())\n",
    "## Number of unique values\n",
    "print('Number of unique values:',bike_data.nunique().sum())\n",
    "## Number of duplicates\n",
    "print('Number of duplicates:',bike_data.duplicated().sum())"
   ]
  },
  {
   "cell_type": "code",
   "execution_count": 8,
   "id": "5b49bf01-fe7e-414f-9104-7616e9916406",
   "metadata": {
    "scrolled": true
   },
   "outputs": [
    {
     "name": "stdout",
     "output_type": "stream",
     "text": [
      "<class 'pandas.core.frame.DataFrame'>\n",
      "RangeIndex: 730 entries, 0 to 729\n",
      "Data columns (total 12 columns):\n",
      " #   Column      Non-Null Count  Dtype\n",
      "---  ------      --------------  -----\n",
      " 0   season      730 non-null    int32\n",
      " 1   yr          730 non-null    int32\n",
      " 2   mnth        730 non-null    int32\n",
      " 3   holiday     730 non-null    int32\n",
      " 4   weekday     730 non-null    int32\n",
      " 5   workingday  730 non-null    int32\n",
      " 6   weathersit  730 non-null    int32\n",
      " 7   temp        730 non-null    int32\n",
      " 8   atemp       730 non-null    int32\n",
      " 9   hum         730 non-null    int32\n",
      " 10  windspeed   730 non-null    int32\n",
      " 11  cnt         730 non-null    int32\n",
      "dtypes: int32(12)\n",
      "memory usage: 34.3 KB\n",
      "None\n"
     ]
    }
   ],
   "source": [
    "# Basic infomation about the dataframe\n",
    "print(bike_data.info())"
   ]
  },
  {
   "cell_type": "code",
   "execution_count": 9,
   "id": "c40b3271-df2e-4a16-8ca9-f261fe446c8b",
   "metadata": {},
   "outputs": [
    {
     "name": "stdout",
     "output_type": "stream",
     "text": [
      "           season          yr        mnth     holiday     weekday  workingday  \\\n",
      "count  730.000000  730.000000  730.000000  730.000000  730.000000  730.000000   \n",
      "mean     2.498630    0.500000    6.526027    0.028767    2.997260    0.683562   \n",
      "std      1.110184    0.500343    3.450215    0.167266    2.006161    0.465405   \n",
      "min      1.000000    0.000000    1.000000    0.000000    0.000000    0.000000   \n",
      "25%      2.000000    0.000000    4.000000    0.000000    1.000000    0.000000   \n",
      "50%      3.000000    0.500000    7.000000    0.000000    3.000000    1.000000   \n",
      "75%      3.000000    1.000000   10.000000    0.000000    5.000000    1.000000   \n",
      "max      4.000000    1.000000   12.000000    1.000000    6.000000    1.000000   \n",
      "\n",
      "       weathersit        temp       atemp         hum   windspeed          cnt  \n",
      "count  730.000000  730.000000  730.000000  730.000000  730.000000   730.000000  \n",
      "mean     1.394521   19.809589   23.216438   62.289041   12.263014  4508.006849  \n",
      "std      0.544807    7.507338    8.161420   14.232057    5.193842  1936.011647  \n",
      "min      1.000000    2.000000    3.000000    0.000000    1.000000    22.000000  \n",
      "25%      1.000000   13.000000   16.000000   52.000000    9.000000  3169.750000  \n",
      "50%      1.000000   20.000000   24.000000   62.000000   12.000000  4548.500000  \n",
      "75%      2.000000   26.000000   30.000000   72.750000   15.000000  5966.000000  \n",
      "max      3.000000   35.000000   42.000000   97.000000   34.000000  8714.000000  \n"
     ]
    }
   ],
   "source": [
    "# Describing the data\n",
    "print(bike_data.describe())"
   ]
  },
  {
   "cell_type": "code",
   "execution_count": 10,
   "id": "f0e51813-eb92-4513-b3ff-a16e8b05bba2",
   "metadata": {},
   "outputs": [],
   "source": [
    "import matplotlib.pyplot as plt #plotting\n",
    "import plotly.express as px #plotting"
   ]
  },
  {
   "cell_type": "markdown",
   "id": "f9964a45-457e-47f1-9ed6-e0ad2100efa7",
   "metadata": {},
   "source": [
    "### Univariate analysis"
   ]
  },
  {
   "cell_type": "code",
   "execution_count": 11,
   "id": "4a00d5eb-b3e0-4ceb-a3bf-b220e9a6b9e1",
   "metadata": {},
   "outputs": [
    {
     "data": {
      "image/png": "[encoded data removed]",
      "text/plain": [
       "<Figure size 1000x600 with 4 Axes>"
      ]
     },
     "metadata": {},
     "output_type": "display_data"
    }
   ],
   "source": [
    "# Set the size for the plots\n",
    "plt.figure(figsize=(10, 6))\n",
    "Univariate_features=['yr','weathersit','mnth','weekday']\n",
    "# Plot histograms for each numerical feature\n",
    "for i, feature in enumerate(Univariate_features, 1):\n",
    "    plt.subplot(2, 4, i)\n",
    "    sns.histplot(bike_data[feature], kde=True, bins=20)\n",
    "    plt.title(f'Distribution of {feature}')\n",
    "    plt.tight_layout()\n",
    "\n",
    "# Show the histograms\n",
    "plt.show()\n"
   ]
  },
  {
   "cell_type": "markdown",
   "id": "806a8452-9621-49b9-980e-7fc448685606",
   "metadata": {},
   "source": [
    "#### Inference of Univariate Analysis: \n",
    "1. Number of bike count in 2018 and 2019 is same\n",
    "2. Bike count is increased in the month of clear weather situation\n",
    "3. Bike count increased from 2nd month of year i.e February, then count remain the same till 10th month of year i.e October and then decreases in the last part of year\n",
    "4. Less bike count in the weekend and on holiday"
   ]
  },
  {
   "cell_type": "code",
   "execution_count": 12,
   "id": "acff3bdd-07b9-4004-8500-64f9a5bfb81f",
   "metadata": {},
   "outputs": [
    {
     "data": {
      "text/html": [
       "<div>\n",
       "<style scoped>\n",
       "    .dataframe tbody tr th:only-of-type {\n",
       "        vertical-align: middle;\n",
       "    }\n",
       "\n",
       "    .dataframe tbody tr th {\n",
       "        vertical-align: top;\n",
       "    }\n",
       "\n",
       "    .dataframe thead th {\n",
       "        text-align: right;\n",
       "    }\n",
       "</style>\n",
       "<table border=\"1\" class=\"dataframe\">\n",
       "  <thead>\n",
       "    <tr style=\"text-align: right;\">\n",
       "      <th></th>\n",
       "      <th>season</th>\n",
       "      <th>yr</th>\n",
       "      <th>mnth</th>\n",
       "      <th>holiday</th>\n",
       "      <th>weekday</th>\n",
       "      <th>workingday</th>\n",
       "      <th>weathersit</th>\n",
       "      <th>temp</th>\n",
       "      <th>atemp</th>\n",
       "      <th>hum</th>\n",
       "      <th>windspeed</th>\n",
       "      <th>cnt</th>\n",
       "    </tr>\n",
       "  </thead>\n",
       "  <tbody>\n",
       "    <tr>\n",
       "      <th>0</th>\n",
       "      <td>1</td>\n",
       "      <td>0</td>\n",
       "      <td>1</td>\n",
       "      <td>0</td>\n",
       "      <td>6</td>\n",
       "      <td>0</td>\n",
       "      <td>2</td>\n",
       "      <td>14</td>\n",
       "      <td>18</td>\n",
       "      <td>80</td>\n",
       "      <td>10</td>\n",
       "      <td>985</td>\n",
       "    </tr>\n",
       "    <tr>\n",
       "      <th>1</th>\n",
       "      <td>1</td>\n",
       "      <td>0</td>\n",
       "      <td>1</td>\n",
       "      <td>0</td>\n",
       "      <td>0</td>\n",
       "      <td>0</td>\n",
       "      <td>2</td>\n",
       "      <td>14</td>\n",
       "      <td>17</td>\n",
       "      <td>69</td>\n",
       "      <td>16</td>\n",
       "      <td>801</td>\n",
       "    </tr>\n",
       "    <tr>\n",
       "      <th>2</th>\n",
       "      <td>1</td>\n",
       "      <td>0</td>\n",
       "      <td>1</td>\n",
       "      <td>0</td>\n",
       "      <td>1</td>\n",
       "      <td>1</td>\n",
       "      <td>1</td>\n",
       "      <td>8</td>\n",
       "      <td>9</td>\n",
       "      <td>43</td>\n",
       "      <td>16</td>\n",
       "      <td>1349</td>\n",
       "    </tr>\n",
       "    <tr>\n",
       "      <th>3</th>\n",
       "      <td>1</td>\n",
       "      <td>0</td>\n",
       "      <td>1</td>\n",
       "      <td>0</td>\n",
       "      <td>2</td>\n",
       "      <td>1</td>\n",
       "      <td>1</td>\n",
       "      <td>8</td>\n",
       "      <td>10</td>\n",
       "      <td>59</td>\n",
       "      <td>10</td>\n",
       "      <td>1562</td>\n",
       "    </tr>\n",
       "    <tr>\n",
       "      <th>4</th>\n",
       "      <td>1</td>\n",
       "      <td>0</td>\n",
       "      <td>1</td>\n",
       "      <td>0</td>\n",
       "      <td>3</td>\n",
       "      <td>1</td>\n",
       "      <td>1</td>\n",
       "      <td>9</td>\n",
       "      <td>11</td>\n",
       "      <td>43</td>\n",
       "      <td>12</td>\n",
       "      <td>1600</td>\n",
       "    </tr>\n",
       "  </tbody>\n",
       "</table>\n",
       "</div>"
      ],
      "text/plain": [
       "   season  yr  mnth  holiday  weekday  workingday  weathersit  temp  atemp  \\\n",
       "0       1   0     1        0        6           0           2    14     18   \n",
       "1       1   0     1        0        0           0           2    14     17   \n",
       "2       1   0     1        0        1           1           1     8      9   \n",
       "3       1   0     1        0        2           1           1     8     10   \n",
       "4       1   0     1        0        3           1           1     9     11   \n",
       "\n",
       "   hum  windspeed   cnt  \n",
       "0   80         10   985  \n",
       "1   69         16   801  \n",
       "2   43         16  1349  \n",
       "3   59         10  1562  \n",
       "4   43         12  1600  "
      ]
     },
     "execution_count": 12,
     "metadata": {},
     "output_type": "execute_result"
    }
   ],
   "source": [
    "bike_data.head()"
   ]
  },
  {
   "cell_type": "code",
   "execution_count": 13,
   "id": "c9f62954-10cc-4872-891c-a022cbbd5684",
   "metadata": {},
   "outputs": [
    {
     "data": {
      "image/png": "[encoded data removed]",
      "text/plain": [
       "<Figure size 640x480 with 4 Axes>"
      ]
     },
     "metadata": {},
     "output_type": "display_data"
    }
   ],
   "source": [
    "# Bivariate Analysis - Scatter plots for relationships between 'cnt' and other features\n",
    "bivariate_features = ['temp', 'atemp', 'hum', 'windspeed']\n",
    "\n",
    "# Plot scatter plots for each pair (cnt vs bivariate features)\n",
    "for i, feature in enumerate(bivariate_features, 1):\n",
    "    plt.subplot(2, 3, i)\n",
    "    sns.scatterplot(x=bike_data[feature], y=bike_data['cnt'])\n",
    "    plt.title(f'{feature} vs cnt')\n",
    "    plt.tight_layout()\n",
    "\n",
    "# Show the scatter plots\n",
    "plt.show()"
   ]
  },
  {
   "cell_type": "code",
   "execution_count": 14,
   "id": "4889d3b3-4ac1-49e1-ab45-c2c314f35498",
   "metadata": {},
   "outputs": [
    {
     "data": {
      "text/html": [
       "<div>\n",
       "<style scoped>\n",
       "    .dataframe tbody tr th:only-of-type {\n",
       "        vertical-align: middle;\n",
       "    }\n",
       "\n",
       "    .dataframe tbody tr th {\n",
       "        vertical-align: top;\n",
       "    }\n",
       "\n",
       "    .dataframe thead th {\n",
       "        text-align: right;\n",
       "    }\n",
       "</style>\n",
       "<table border=\"1\" class=\"dataframe\">\n",
       "  <thead>\n",
       "    <tr style=\"text-align: right;\">\n",
       "      <th></th>\n",
       "      <th>season</th>\n",
       "      <th>yr</th>\n",
       "      <th>mnth</th>\n",
       "      <th>holiday</th>\n",
       "      <th>weekday</th>\n",
       "      <th>workingday</th>\n",
       "      <th>weathersit</th>\n",
       "      <th>temp</th>\n",
       "      <th>atemp</th>\n",
       "      <th>hum</th>\n",
       "      <th>windspeed</th>\n",
       "      <th>cnt</th>\n",
       "    </tr>\n",
       "  </thead>\n",
       "  <tbody>\n",
       "    <tr>\n",
       "      <th>0</th>\n",
       "      <td>1</td>\n",
       "      <td>0</td>\n",
       "      <td>1</td>\n",
       "      <td>0</td>\n",
       "      <td>6</td>\n",
       "      <td>0</td>\n",
       "      <td>2</td>\n",
       "      <td>14</td>\n",
       "      <td>18</td>\n",
       "      <td>80</td>\n",
       "      <td>10</td>\n",
       "      <td>985</td>\n",
       "    </tr>\n",
       "    <tr>\n",
       "      <th>1</th>\n",
       "      <td>1</td>\n",
       "      <td>0</td>\n",
       "      <td>1</td>\n",
       "      <td>0</td>\n",
       "      <td>0</td>\n",
       "      <td>0</td>\n",
       "      <td>2</td>\n",
       "      <td>14</td>\n",
       "      <td>17</td>\n",
       "      <td>69</td>\n",
       "      <td>16</td>\n",
       "      <td>801</td>\n",
       "    </tr>\n",
       "    <tr>\n",
       "      <th>2</th>\n",
       "      <td>1</td>\n",
       "      <td>0</td>\n",
       "      <td>1</td>\n",
       "      <td>0</td>\n",
       "      <td>1</td>\n",
       "      <td>1</td>\n",
       "      <td>1</td>\n",
       "      <td>8</td>\n",
       "      <td>9</td>\n",
       "      <td>43</td>\n",
       "      <td>16</td>\n",
       "      <td>1349</td>\n",
       "    </tr>\n",
       "    <tr>\n",
       "      <th>3</th>\n",
       "      <td>1</td>\n",
       "      <td>0</td>\n",
       "      <td>1</td>\n",
       "      <td>0</td>\n",
       "      <td>2</td>\n",
       "      <td>1</td>\n",
       "      <td>1</td>\n",
       "      <td>8</td>\n",
       "      <td>10</td>\n",
       "      <td>59</td>\n",
       "      <td>10</td>\n",
       "      <td>1562</td>\n",
       "    </tr>\n",
       "    <tr>\n",
       "      <th>4</th>\n",
       "      <td>1</td>\n",
       "      <td>0</td>\n",
       "      <td>1</td>\n",
       "      <td>0</td>\n",
       "      <td>3</td>\n",
       "      <td>1</td>\n",
       "      <td>1</td>\n",
       "      <td>9</td>\n",
       "      <td>11</td>\n",
       "      <td>43</td>\n",
       "      <td>12</td>\n",
       "      <td>1600</td>\n",
       "    </tr>\n",
       "  </tbody>\n",
       "</table>\n",
       "</div>"
      ],
      "text/plain": [
       "   season  yr  mnth  holiday  weekday  workingday  weathersit  temp  atemp  \\\n",
       "0       1   0     1        0        6           0           2    14     18   \n",
       "1       1   0     1        0        0           0           2    14     17   \n",
       "2       1   0     1        0        1           1           1     8      9   \n",
       "3       1   0     1        0        2           1           1     8     10   \n",
       "4       1   0     1        0        3           1           1     9     11   \n",
       "\n",
       "   hum  windspeed   cnt  \n",
       "0   80         10   985  \n",
       "1   69         16   801  \n",
       "2   43         16  1349  \n",
       "3   59         10  1562  \n",
       "4   43         12  1600  "
      ]
     },
     "execution_count": 14,
     "metadata": {},
     "output_type": "execute_result"
    }
   ],
   "source": [
    "bike_data.head()"
   ]
  },
  {
   "cell_type": "code",
   "execution_count": 15,
   "id": "96008260-b9c9-4f5a-8a76-ca3d3ead965a",
   "metadata": {},
   "outputs": [
    {
     "data": {
      "image/png": "[encoded data removed]",
      "text/plain": [
       "<Figure size 2500x2000 with 2 Axes>"
      ]
     },
     "metadata": {},
     "output_type": "display_data"
    }
   ],
   "source": [
    "plt.figure(figsize = (25,20))\n",
    "sns.heatmap(bike_data.corr(), annot = True)\n",
    "plt.show()"
   ]
  },
  {
   "cell_type": "markdown",
   "id": "cfcc88e5-3f64-4e4f-9d54-57c46834d035",
   "metadata": {},
   "source": [
    "#### Inference of Bivariate Analysis: \n",
    "1. Both temp temperature and feeling temperature shows positive bike count with increased values.\n",
    "2. With the humidity, bike rental count have negative relation ship. Means increased in humidity decrease the bike count\n",
    "3. Windspeed no correlationship with bike rental count."
   ]
  },
  {
   "cell_type": "code",
   "execution_count": 16,
   "id": "7e20b030-86e5-443a-90b5-393044853a3f",
   "metadata": {},
   "outputs": [
    {
     "data": {
      "text/html": [
       "<div>\n",
       "<style scoped>\n",
       "    .dataframe tbody tr th:only-of-type {\n",
       "        vertical-align: middle;\n",
       "    }\n",
       "\n",
       "    .dataframe tbody tr th {\n",
       "        vertical-align: top;\n",
       "    }\n",
       "\n",
       "    .dataframe thead th {\n",
       "        text-align: right;\n",
       "    }\n",
       "</style>\n",
       "<table border=\"1\" class=\"dataframe\">\n",
       "  <thead>\n",
       "    <tr style=\"text-align: right;\">\n",
       "      <th></th>\n",
       "      <th>season</th>\n",
       "      <th>yr</th>\n",
       "      <th>mnth</th>\n",
       "      <th>holiday</th>\n",
       "      <th>weekday</th>\n",
       "      <th>workingday</th>\n",
       "      <th>weathersit</th>\n",
       "      <th>temp</th>\n",
       "      <th>atemp</th>\n",
       "      <th>hum</th>\n",
       "      <th>windspeed</th>\n",
       "      <th>cnt</th>\n",
       "    </tr>\n",
       "  </thead>\n",
       "  <tbody>\n",
       "    <tr>\n",
       "      <th>0</th>\n",
       "      <td>1</td>\n",
       "      <td>0</td>\n",
       "      <td>1</td>\n",
       "      <td>0</td>\n",
       "      <td>6</td>\n",
       "      <td>0</td>\n",
       "      <td>2</td>\n",
       "      <td>14</td>\n",
       "      <td>18</td>\n",
       "      <td>80</td>\n",
       "      <td>10</td>\n",
       "      <td>985</td>\n",
       "    </tr>\n",
       "    <tr>\n",
       "      <th>1</th>\n",
       "      <td>1</td>\n",
       "      <td>0</td>\n",
       "      <td>1</td>\n",
       "      <td>0</td>\n",
       "      <td>0</td>\n",
       "      <td>0</td>\n",
       "      <td>2</td>\n",
       "      <td>14</td>\n",
       "      <td>17</td>\n",
       "      <td>69</td>\n",
       "      <td>16</td>\n",
       "      <td>801</td>\n",
       "    </tr>\n",
       "    <tr>\n",
       "      <th>2</th>\n",
       "      <td>1</td>\n",
       "      <td>0</td>\n",
       "      <td>1</td>\n",
       "      <td>0</td>\n",
       "      <td>1</td>\n",
       "      <td>1</td>\n",
       "      <td>1</td>\n",
       "      <td>8</td>\n",
       "      <td>9</td>\n",
       "      <td>43</td>\n",
       "      <td>16</td>\n",
       "      <td>1349</td>\n",
       "    </tr>\n",
       "    <tr>\n",
       "      <th>3</th>\n",
       "      <td>1</td>\n",
       "      <td>0</td>\n",
       "      <td>1</td>\n",
       "      <td>0</td>\n",
       "      <td>2</td>\n",
       "      <td>1</td>\n",
       "      <td>1</td>\n",
       "      <td>8</td>\n",
       "      <td>10</td>\n",
       "      <td>59</td>\n",
       "      <td>10</td>\n",
       "      <td>1562</td>\n",
       "    </tr>\n",
       "    <tr>\n",
       "      <th>4</th>\n",
       "      <td>1</td>\n",
       "      <td>0</td>\n",
       "      <td>1</td>\n",
       "      <td>0</td>\n",
       "      <td>3</td>\n",
       "      <td>1</td>\n",
       "      <td>1</td>\n",
       "      <td>9</td>\n",
       "      <td>11</td>\n",
       "      <td>43</td>\n",
       "      <td>12</td>\n",
       "      <td>1600</td>\n",
       "    </tr>\n",
       "  </tbody>\n",
       "</table>\n",
       "</div>"
      ],
      "text/plain": [
       "   season  yr  mnth  holiday  weekday  workingday  weathersit  temp  atemp  \\\n",
       "0       1   0     1        0        6           0           2    14     18   \n",
       "1       1   0     1        0        0           0           2    14     17   \n",
       "2       1   0     1        0        1           1           1     8      9   \n",
       "3       1   0     1        0        2           1           1     8     10   \n",
       "4       1   0     1        0        3           1           1     9     11   \n",
       "\n",
       "   hum  windspeed   cnt  \n",
       "0   80         10   985  \n",
       "1   69         16   801  \n",
       "2   43         16  1349  \n",
       "3   59         10  1562  \n",
       "4   43         12  1600  "
      ]
     },
     "execution_count": 16,
     "metadata": {},
     "output_type": "execute_result"
    }
   ],
   "source": [
    "bike_data.head()"
   ]
  },
  {
   "cell_type": "markdown",
   "id": "56fee66c-234e-4d97-ae3f-04d774acfe91",
   "metadata": {},
   "source": [
    "## Step 3: Train Test Split :-"
   ]
  },
  {
   "cell_type": "code",
   "execution_count": 17,
   "id": "71ac8127-6a3f-42f0-88ba-21c1c4f3ac4f",
   "metadata": {},
   "outputs": [],
   "source": [
    "from sklearn.model_selection import train_test_split\n",
    "from sklearn.model_selection import train_test_split\n",
    "from sklearn.linear_model import LinearRegression\n",
    "from sklearn.metrics import mean_squared_error, r2_score\n",
    "from sklearn.preprocessing import StandardScaler"
   ]
  },
  {
   "cell_type": "code",
   "execution_count": 18,
   "id": "b717f4ad-b53f-4f9c-b2d2-6c77189f897f",
   "metadata": {},
   "outputs": [],
   "source": [
    "# Split the dataset into training and testing sets\n",
    "df_train, df_test = train_test_split(bike_data, train_size = 0.7, test_size = 0.3, random_state = 100)"
   ]
  },
  {
   "cell_type": "code",
   "execution_count": 19,
   "id": "07c58838-44b0-446b-b2df-3f8f9e6e937f",
   "metadata": {},
   "outputs": [
    {
     "name": "stdout",
     "output_type": "stream",
     "text": [
      "<class 'pandas.core.frame.DataFrame'>\n",
      "Index: 510 entries, 653 to 79\n",
      "Data columns (total 12 columns):\n",
      " #   Column      Non-Null Count  Dtype\n",
      "---  ------      --------------  -----\n",
      " 0   season      510 non-null    int32\n",
      " 1   yr          510 non-null    int32\n",
      " 2   mnth        510 non-null    int32\n",
      " 3   holiday     510 non-null    int32\n",
      " 4   weekday     510 non-null    int32\n",
      " 5   workingday  510 non-null    int32\n",
      " 6   weathersit  510 non-null    int32\n",
      " 7   temp        510 non-null    int32\n",
      " 8   atemp       510 non-null    int32\n",
      " 9   hum         510 non-null    int32\n",
      " 10  windspeed   510 non-null    int32\n",
      " 11  cnt         510 non-null    int32\n",
      "dtypes: int32(12)\n",
      "memory usage: 27.9 KB\n"
     ]
    }
   ],
   "source": [
    "df_train.info()"
   ]
  },
  {
   "cell_type": "code",
   "execution_count": 20,
   "id": "2210f72b-2754-4170-b8b8-18fc8a62ebbc",
   "metadata": {},
   "outputs": [
    {
     "data": {
      "text/plain": [
       "(510, 12)"
      ]
     },
     "execution_count": 20,
     "metadata": {},
     "output_type": "execute_result"
    }
   ],
   "source": [
    "df_train.shape"
   ]
  },
  {
   "cell_type": "code",
   "execution_count": 21,
   "id": "f1d93820-67cd-4507-97cb-41cf844c93b7",
   "metadata": {},
   "outputs": [
    {
     "name": "stdout",
     "output_type": "stream",
     "text": [
      "<class 'pandas.core.frame.DataFrame'>\n",
      "Index: 219 entries, 184 to 72\n",
      "Data columns (total 12 columns):\n",
      " #   Column      Non-Null Count  Dtype\n",
      "---  ------      --------------  -----\n",
      " 0   season      219 non-null    int32\n",
      " 1   yr          219 non-null    int32\n",
      " 2   mnth        219 non-null    int32\n",
      " 3   holiday     219 non-null    int32\n",
      " 4   weekday     219 non-null    int32\n",
      " 5   workingday  219 non-null    int32\n",
      " 6   weathersit  219 non-null    int32\n",
      " 7   temp        219 non-null    int32\n",
      " 8   atemp       219 non-null    int32\n",
      " 9   hum         219 non-null    int32\n",
      " 10  windspeed   219 non-null    int32\n",
      " 11  cnt         219 non-null    int32\n",
      "dtypes: int32(12)\n",
      "memory usage: 12.0 KB\n"
     ]
    }
   ],
   "source": [
    "df_test.info()"
   ]
  },
  {
   "cell_type": "code",
   "execution_count": 22,
   "id": "ba8be6ed-057a-4ba2-b41d-ee65f793ac65",
   "metadata": {},
   "outputs": [
    {
     "data": {
      "text/plain": [
       "(219, 12)"
      ]
     },
     "execution_count": 22,
     "metadata": {},
     "output_type": "execute_result"
    }
   ],
   "source": [
    "df_test.shape"
   ]
  },
  {
   "cell_type": "code",
   "execution_count": 23,
   "id": "fe02bf73-b043-4179-be9d-a0f028404755",
   "metadata": {},
   "outputs": [
    {
     "data": {
      "text/plain": [
       "Index(['season', 'yr', 'mnth', 'holiday', 'weekday', 'workingday',\n",
       "       'weathersit', 'temp', 'atemp', 'hum', 'windspeed', 'cnt'],\n",
       "      dtype='object')"
      ]
     },
     "execution_count": 23,
     "metadata": {},
     "output_type": "execute_result"
    }
   ],
   "source": [
    "df_train.columns"
   ]
  },
  {
   "cell_type": "markdown",
   "id": "2b9ae34d-17e8-43e9-a2a9-637dcb3eaafa",
   "metadata": {},
   "source": [
    "#### ReScaling"
   ]
  },
  {
   "cell_type": "code",
   "execution_count": 24,
   "id": "900c1987-8944-4ca1-bd68-649b069b3274",
   "metadata": {},
   "outputs": [],
   "source": [
    "from sklearn.preprocessing import MinMaxScaler\n",
    "scaler = MinMaxScaler()\n"
   ]
  },
  {
   "cell_type": "code",
   "execution_count": 25,
   "id": "c63a07a6-2fa6-481f-a0e1-5f7cd45e1562",
   "metadata": {},
   "outputs": [
    {
     "data": {
      "text/html": [
       "<div>\n",
       "<style scoped>\n",
       "    .dataframe tbody tr th:only-of-type {\n",
       "        vertical-align: middle;\n",
       "    }\n",
       "\n",
       "    .dataframe tbody tr th {\n",
       "        vertical-align: top;\n",
       "    }\n",
       "\n",
       "    .dataframe thead th {\n",
       "        text-align: right;\n",
       "    }\n",
       "</style>\n",
       "<table border=\"1\" class=\"dataframe\">\n",
       "  <thead>\n",
       "    <tr style=\"text-align: right;\">\n",
       "      <th></th>\n",
       "      <th>season</th>\n",
       "      <th>yr</th>\n",
       "      <th>mnth</th>\n",
       "      <th>holiday</th>\n",
       "      <th>weekday</th>\n",
       "      <th>workingday</th>\n",
       "      <th>weathersit</th>\n",
       "      <th>temp</th>\n",
       "      <th>atemp</th>\n",
       "      <th>hum</th>\n",
       "      <th>windspeed</th>\n",
       "      <th>cnt</th>\n",
       "    </tr>\n",
       "  </thead>\n",
       "  <tbody>\n",
       "    <tr>\n",
       "      <th>653</th>\n",
       "      <td>4</td>\n",
       "      <td>1</td>\n",
       "      <td>10</td>\n",
       "      <td>0</td>\n",
       "      <td>2</td>\n",
       "      <td>1</td>\n",
       "      <td>1</td>\n",
       "      <td>0.515152</td>\n",
       "      <td>0.512821</td>\n",
       "      <td>0.567010</td>\n",
       "      <td>0.31250</td>\n",
       "      <td>0.864243</td>\n",
       "    </tr>\n",
       "    <tr>\n",
       "      <th>576</th>\n",
       "      <td>3</td>\n",
       "      <td>1</td>\n",
       "      <td>7</td>\n",
       "      <td>0</td>\n",
       "      <td>2</td>\n",
       "      <td>1</td>\n",
       "      <td>1</td>\n",
       "      <td>0.818182</td>\n",
       "      <td>0.769231</td>\n",
       "      <td>0.721649</td>\n",
       "      <td>0.28125</td>\n",
       "      <td>0.827658</td>\n",
       "    </tr>\n",
       "    <tr>\n",
       "      <th>426</th>\n",
       "      <td>1</td>\n",
       "      <td>1</td>\n",
       "      <td>3</td>\n",
       "      <td>0</td>\n",
       "      <td>6</td>\n",
       "      <td>0</td>\n",
       "      <td>2</td>\n",
       "      <td>0.424242</td>\n",
       "      <td>0.435897</td>\n",
       "      <td>0.639175</td>\n",
       "      <td>0.25000</td>\n",
       "      <td>0.465255</td>\n",
       "    </tr>\n",
       "    <tr>\n",
       "      <th>728</th>\n",
       "      <td>1</td>\n",
       "      <td>1</td>\n",
       "      <td>12</td>\n",
       "      <td>0</td>\n",
       "      <td>0</td>\n",
       "      <td>0</td>\n",
       "      <td>1</td>\n",
       "      <td>0.242424</td>\n",
       "      <td>0.205128</td>\n",
       "      <td>0.494845</td>\n",
       "      <td>0.65625</td>\n",
       "      <td>0.204096</td>\n",
       "    </tr>\n",
       "    <tr>\n",
       "      <th>482</th>\n",
       "      <td>2</td>\n",
       "      <td>1</td>\n",
       "      <td>4</td>\n",
       "      <td>0</td>\n",
       "      <td>6</td>\n",
       "      <td>0</td>\n",
       "      <td>2</td>\n",
       "      <td>0.393939</td>\n",
       "      <td>0.384615</td>\n",
       "      <td>0.494845</td>\n",
       "      <td>0.18750</td>\n",
       "      <td>0.482973</td>\n",
       "    </tr>\n",
       "  </tbody>\n",
       "</table>\n",
       "</div>"
      ],
      "text/plain": [
       "     season  yr  mnth  holiday  weekday  workingday  weathersit      temp  \\\n",
       "653       4   1    10        0        2           1           1  0.515152   \n",
       "576       3   1     7        0        2           1           1  0.818182   \n",
       "426       1   1     3        0        6           0           2  0.424242   \n",
       "728       1   1    12        0        0           0           1  0.242424   \n",
       "482       2   1     4        0        6           0           2  0.393939   \n",
       "\n",
       "        atemp       hum  windspeed       cnt  \n",
       "653  0.512821  0.567010    0.31250  0.864243  \n",
       "576  0.769231  0.721649    0.28125  0.827658  \n",
       "426  0.435897  0.639175    0.25000  0.465255  \n",
       "728  0.205128  0.494845    0.65625  0.204096  \n",
       "482  0.384615  0.494845    0.18750  0.482973  "
      ]
     },
     "execution_count": 25,
     "metadata": {},
     "output_type": "execute_result"
    }
   ],
   "source": [
    "# Apply scaler() to all the columns except the 'yes-no' and 'dummy' variables\n",
    "num_vars = ['temp', 'atemp', 'hum', 'windspeed','cnt']\n",
    "\n",
    "df_train[num_vars] = scaler.fit_transform(df_train[num_vars])\n",
    "\n",
    "df_train.head()"
   ]
  },
  {
   "cell_type": "markdown",
   "id": "669b2c79-4632-4492-bc4b-c9bb3a21dd97",
   "metadata": {},
   "source": [
    "### Dividing into X and Y sets for the model building"
   ]
  },
  {
   "cell_type": "code",
   "execution_count": 26,
   "id": "84c3ee5e-25ee-4c98-931a-4cf1dba1f274",
   "metadata": {},
   "outputs": [],
   "source": [
    "y_train = df_train.pop('cnt')\n",
    "X_train = df_train"
   ]
  },
  {
   "cell_type": "markdown",
   "id": "22cc0a7c-8e2f-4a6c-95bb-2b9b4e77b23f",
   "metadata": {},
   "source": [
    "#### Recursive feature elimination (RFE)"
   ]
  },
  {
   "cell_type": "code",
   "execution_count": 27,
   "id": "4f981f82-c819-4adc-ae4d-ced17a4ba311",
   "metadata": {},
   "outputs": [],
   "source": [
    "# Importing RFE and LinearRegression\n",
    "from sklearn.feature_selection import RFE\n",
    "from sklearn.linear_model import LinearRegression\n"
   ]
  },
  {
   "cell_type": "code",
   "execution_count": 28,
   "id": "5c85e372-6aff-4f30-96e1-626f621612cf",
   "metadata": {},
   "outputs": [],
   "source": [
    "# Running RFE with the output number of the variable equal to 10\n",
    "lm = LinearRegression()\n",
    "lm.fit(X_train, y_train)\n",
    "\n",
    "rfe = RFE(lm)         \n",
    "rfe = rfe.fit(X_train, y_train)"
   ]
  },
  {
   "cell_type": "code",
   "execution_count": 29,
   "id": "768bfff0-53a9-4dec-a881-d513462ec2ed",
   "metadata": {},
   "outputs": [
    {
     "data": {
      "text/plain": [
       "[('season', False, 4),\n",
       " ('yr', True, 1),\n",
       " ('mnth', False, 7),\n",
       " ('holiday', False, 2),\n",
       " ('weekday', False, 6),\n",
       " ('workingday', False, 5),\n",
       " ('weathersit', True, 1),\n",
       " ('temp', True, 1),\n",
       " ('atemp', True, 1),\n",
       " ('hum', False, 3),\n",
       " ('windspeed', True, 1)]"
      ]
     },
     "execution_count": 29,
     "metadata": {},
     "output_type": "execute_result"
    }
   ],
   "source": [
    "list(zip(X_train.columns,rfe.support_,rfe.ranking_))"
   ]
  },
  {
   "cell_type": "code",
   "execution_count": 30,
   "id": "5270b518-f9f5-49ed-ab62-c63ddae533b3",
   "metadata": {},
   "outputs": [
    {
     "data": {
      "text/plain": [
       "Index(['yr', 'weathersit', 'temp', 'atemp', 'windspeed'], dtype='object')"
      ]
     },
     "execution_count": 30,
     "metadata": {},
     "output_type": "execute_result"
    }
   ],
   "source": [
    "col = X_train.columns[rfe.support_]\n",
    "col"
   ]
  },
  {
   "cell_type": "code",
   "execution_count": 31,
   "id": "213b1a7a-4264-4f8f-a79d-91258e8f37dc",
   "metadata": {},
   "outputs": [
    {
     "data": {
      "text/plain": [
       "Index(['season', 'mnth', 'holiday', 'weekday', 'workingday', 'hum'], dtype='object')"
      ]
     },
     "execution_count": 31,
     "metadata": {},
     "output_type": "execute_result"
    }
   ],
   "source": [
    "X_train.columns[~rfe.support_]"
   ]
  },
  {
   "cell_type": "markdown",
   "id": "93c9c48c-4d78-4f08-a3ac-026001c8748a",
   "metadata": {},
   "source": [
    "### Building model using statsmodel, for the detailed statistics"
   ]
  },
  {
   "cell_type": "code",
   "execution_count": 32,
   "id": "354b537a-6d66-4263-8096-5234591c271c",
   "metadata": {},
   "outputs": [
    {
     "name": "stdout",
     "output_type": "stream",
     "text": [
      "<class 'pandas.core.frame.DataFrame'>\n",
      "Index: 510 entries, 653 to 79\n",
      "Data columns (total 5 columns):\n",
      " #   Column      Non-Null Count  Dtype  \n",
      "---  ------      --------------  -----  \n",
      " 0   yr          510 non-null    int32  \n",
      " 1   weathersit  510 non-null    int32  \n",
      " 2   temp        510 non-null    float64\n",
      " 3   atemp       510 non-null    float64\n",
      " 4   windspeed   510 non-null    float64\n",
      "dtypes: float64(3), int32(2)\n",
      "memory usage: 19.9 KB\n"
     ]
    }
   ],
   "source": [
    "# Creating X_test dataframe with RFE selected variables\n",
    "X_train_rfe = X_train[col]\n",
    "X_train_rfe.info()"
   ]
  },
  {
   "cell_type": "markdown",
   "id": "96d128d7-8aeb-479b-8868-ccb20e118d83",
   "metadata": {},
   "source": [
    "#### Model 1"
   ]
  },
  {
   "cell_type": "code",
   "execution_count": 33,
   "id": "777ea491-1bb1-4707-a74c-7dc8f5ba7a94",
   "metadata": {},
   "outputs": [
    {
     "data": {
      "text/html": [
       "<div>\n",
       "<style scoped>\n",
       "    .dataframe tbody tr th:only-of-type {\n",
       "        vertical-align: middle;\n",
       "    }\n",
       "\n",
       "    .dataframe tbody tr th {\n",
       "        vertical-align: top;\n",
       "    }\n",
       "\n",
       "    .dataframe thead th {\n",
       "        text-align: right;\n",
       "    }\n",
       "</style>\n",
       "<table border=\"1\" class=\"dataframe\">\n",
       "  <thead>\n",
       "    <tr style=\"text-align: right;\">\n",
       "      <th></th>\n",
       "      <th>Features</th>\n",
       "      <th>VIF</th>\n",
       "    </tr>\n",
       "  </thead>\n",
       "  <tbody>\n",
       "    <tr>\n",
       "      <th>3</th>\n",
       "      <td>atemp</td>\n",
       "      <td>290.27</td>\n",
       "    </tr>\n",
       "    <tr>\n",
       "      <th>2</th>\n",
       "      <td>temp</td>\n",
       "      <td>282.53</td>\n",
       "    </tr>\n",
       "    <tr>\n",
       "      <th>1</th>\n",
       "      <td>weathersit</td>\n",
       "      <td>4.94</td>\n",
       "    </tr>\n",
       "    <tr>\n",
       "      <th>4</th>\n",
       "      <td>windspeed</td>\n",
       "      <td>3.63</td>\n",
       "    </tr>\n",
       "    <tr>\n",
       "      <th>0</th>\n",
       "      <td>yr</td>\n",
       "      <td>1.99</td>\n",
       "    </tr>\n",
       "  </tbody>\n",
       "</table>\n",
       "</div>"
      ],
      "text/plain": [
       "     Features     VIF\n",
       "3       atemp  290.27\n",
       "2        temp  282.53\n",
       "1  weathersit    4.94\n",
       "4   windspeed    3.63\n",
       "0          yr    1.99"
      ]
     },
     "execution_count": 33,
     "metadata": {},
     "output_type": "execute_result"
    }
   ],
   "source": [
    "# Check for the VIF values of the feature variables. \n",
    "from statsmodels.stats.outliers_influence import variance_inflation_factor\n",
    "\n",
    "# Create a dataframe that will contain the names of all the feature variables and their respective VIFs\n",
    "vif = pd.DataFrame()\n",
    "vif['Features'] = X_train_rfe.columns\n",
    "vif['VIF'] = [variance_inflation_factor(X_train_rfe.values, i) for i in range(X_train_rfe.shape[1])]\n",
    "vif['VIF'] = round(vif['VIF'], 2)\n",
    "vif = vif.sort_values(by = \"VIF\", ascending = False)\n",
    "vif"
   ]
  },
  {
   "cell_type": "code",
   "execution_count": 34,
   "id": "6568c130-3fe9-4b75-a554-380f26f247e0",
   "metadata": {},
   "outputs": [],
   "source": [
    "import statsmodels.api as sm\n",
    "\n",
    "# Add a constant\n",
    "X_train_lm1 = sm.add_constant(X_train_rfe)\n",
    "\n",
    "# Create a first fitted model\n",
    "lr1 = sm.OLS(y_train, X_train_lm1).fit()"
   ]
  },
  {
   "cell_type": "code",
   "execution_count": 35,
   "id": "3800eaa7-ca3a-46c2-bd9f-c2ad705bfa92",
   "metadata": {},
   "outputs": [
    {
     "data": {
      "text/plain": [
       "const         0.276407\n",
       "yr            0.234513\n",
       "weathersit   -0.085116\n",
       "temp          0.231545\n",
       "atemp         0.338264\n",
       "windspeed    -0.183624\n",
       "dtype: float64"
      ]
     },
     "execution_count": 35,
     "metadata": {},
     "output_type": "execute_result"
    }
   ],
   "source": [
    "# Check the parameters obtained\n",
    "\n",
    "lr1.params"
   ]
  },
  {
   "cell_type": "code",
   "execution_count": 36,
   "id": "2a71ddb6-6036-4040-99a9-134eca402fc0",
   "metadata": {},
   "outputs": [
    {
     "name": "stdout",
     "output_type": "stream",
     "text": [
      "                            OLS Regression Results                            \n",
      "==============================================================================\n",
      "Dep. Variable:                    cnt   R-squared:                       0.756\n",
      "Model:                            OLS   Adj. R-squared:                  0.753\n",
      "Method:                 Least Squares   F-statistic:                     311.9\n",
      "Date:                Wed, 25 Dec 2024   Prob (F-statistic):          1.07e-151\n",
      "Time:                        23:17:00   Log-Likelihood:                 397.96\n",
      "No. Observations:                 510   AIC:                            -783.9\n",
      "Df Residuals:                     504   BIC:                            -758.5\n",
      "Df Model:                           5                                         \n",
      "Covariance Type:            nonrobust                                         \n",
      "==============================================================================\n",
      "                 coef    std err          t      P>|t|      [0.025      0.975]\n",
      "------------------------------------------------------------------------------\n",
      "const          0.2764      0.024     11.642      0.000       0.230       0.323\n",
      "yr             0.2345      0.010     23.565      0.000       0.215       0.254\n",
      "weathersit    -0.0851      0.009     -9.368      0.000      -0.103      -0.067\n",
      "temp           0.2315      0.146      1.582      0.114      -0.056       0.519\n",
      "atemp          0.3383      0.160      2.121      0.034       0.025       0.652\n",
      "windspeed     -0.1836      0.031     -5.918      0.000      -0.245      -0.123\n",
      "==============================================================================\n",
      "Omnibus:                       19.403   Durbin-Watson:                   2.026\n",
      "Prob(Omnibus):                  0.000   Jarque-Bera (JB):               23.915\n",
      "Skew:                          -0.378   Prob(JB):                     6.41e-06\n",
      "Kurtosis:                       3.743   Cond. No.                         88.0\n",
      "==============================================================================\n",
      "\n",
      "Notes:\n",
      "[1] Standard Errors assume that the covariance matrix of the errors is correctly specified.\n"
     ]
    }
   ],
   "source": [
    "# Print a summary of the linear regression model obtained\n",
    "print(lr1.summary())"
   ]
  },
  {
   "cell_type": "markdown",
   "id": "93da32cd-8df4-4845-be0b-e863a01d661c",
   "metadata": {},
   "source": [
    "#### Removing the variable 'atemp' based on its High p-value & High VIF"
   ]
  },
  {
   "cell_type": "code",
   "execution_count": 37,
   "id": "59278e6c-188f-413c-8bf9-fbce2373e033",
   "metadata": {},
   "outputs": [],
   "source": [
    "X_train_new = X_train_rfe.drop([\"atemp\"], axis = 1)"
   ]
  },
  {
   "cell_type": "code",
   "execution_count": 38,
   "id": "2d4e5891-2fb3-4a79-817c-5a5338580a7d",
   "metadata": {},
   "outputs": [
    {
     "data": {
      "text/html": [
       "<div>\n",
       "<style scoped>\n",
       "    .dataframe tbody tr th:only-of-type {\n",
       "        vertical-align: middle;\n",
       "    }\n",
       "\n",
       "    .dataframe tbody tr th {\n",
       "        vertical-align: top;\n",
       "    }\n",
       "\n",
       "    .dataframe thead th {\n",
       "        text-align: right;\n",
       "    }\n",
       "</style>\n",
       "<table border=\"1\" class=\"dataframe\">\n",
       "  <thead>\n",
       "    <tr style=\"text-align: right;\">\n",
       "      <th></th>\n",
       "      <th>Features</th>\n",
       "      <th>VIF</th>\n",
       "    </tr>\n",
       "  </thead>\n",
       "  <tbody>\n",
       "    <tr>\n",
       "      <th>1</th>\n",
       "      <td>weathersit</td>\n",
       "      <td>4.76</td>\n",
       "    </tr>\n",
       "    <tr>\n",
       "      <th>2</th>\n",
       "      <td>temp</td>\n",
       "      <td>4.14</td>\n",
       "    </tr>\n",
       "    <tr>\n",
       "      <th>3</th>\n",
       "      <td>windspeed</td>\n",
       "      <td>3.62</td>\n",
       "    </tr>\n",
       "    <tr>\n",
       "      <th>0</th>\n",
       "      <td>yr</td>\n",
       "      <td>1.99</td>\n",
       "    </tr>\n",
       "  </tbody>\n",
       "</table>\n",
       "</div>"
      ],
      "text/plain": [
       "     Features   VIF\n",
       "1  weathersit  4.76\n",
       "2        temp  4.14\n",
       "3   windspeed  3.62\n",
       "0          yr  1.99"
      ]
     },
     "execution_count": 38,
     "metadata": {},
     "output_type": "execute_result"
    }
   ],
   "source": [
    "# Check for the VIF values of the feature variables. \n",
    "from statsmodels.stats.outliers_influence import variance_inflation_factor\n",
    "\n",
    "# Create a dataframe that will contain the names of all the feature variables and their respective VIFs\n",
    "vif = pd.DataFrame()\n",
    "vif['Features'] = X_train_new.columns\n",
    "vif['VIF'] = [variance_inflation_factor(X_train_new.values, i) for i in range(X_train_new.shape[1])]\n",
    "vif['VIF'] = round(vif['VIF'], 2)\n",
    "vif = vif.sort_values(by = \"VIF\", ascending = False)\n",
    "vif"
   ]
  },
  {
   "cell_type": "code",
   "execution_count": 39,
   "id": "4692a092-aba0-40a3-adf3-3600a3b58fbe",
   "metadata": {},
   "outputs": [
    {
     "data": {
      "text/plain": [
       "const         0.291372\n",
       "yr            0.233967\n",
       "weathersit   -0.085723\n",
       "temp          0.538202\n",
       "windspeed    -0.196605\n",
       "dtype: float64"
      ]
     },
     "execution_count": 39,
     "metadata": {},
     "output_type": "execute_result"
    }
   ],
   "source": [
    "# Add a constant\n",
    "X_train_lm2 = sm.add_constant(X_train_new)\n",
    "\n",
    "# Create a first fitted model\n",
    "lr2 = sm.OLS(y_train, X_train_lm2).fit()\n",
    "# Check the parameters obtained\n",
    "\n",
    "lr2.params"
   ]
  },
  {
   "cell_type": "code",
   "execution_count": 40,
   "id": "3a622944-4d62-4a78-8306-befcc9372976",
   "metadata": {},
   "outputs": [
    {
     "name": "stdout",
     "output_type": "stream",
     "text": [
      "                            OLS Regression Results                            \n",
      "==============================================================================\n",
      "Dep. Variable:                    cnt   R-squared:                       0.754\n",
      "Model:                            OLS   Adj. R-squared:                  0.752\n",
      "Method:                 Least Squares   F-statistic:                     386.1\n",
      "Date:                Wed, 25 Dec 2024   Prob (F-statistic):          4.76e-152\n",
      "Time:                        23:17:00   Log-Likelihood:                 395.70\n",
      "No. Observations:                 510   AIC:                            -781.4\n",
      "Df Residuals:                     505   BIC:                            -760.2\n",
      "Df Model:                           4                                         \n",
      "Covariance Type:            nonrobust                                         \n",
      "==============================================================================\n",
      "                 coef    std err          t      P>|t|      [0.025      0.975]\n",
      "------------------------------------------------------------------------------\n",
      "const          0.2914      0.023     12.809      0.000       0.247       0.336\n",
      "yr             0.2340      0.010     23.437      0.000       0.214       0.254\n",
      "weathersit    -0.0857      0.009     -9.407      0.000      -0.104      -0.068\n",
      "temp           0.5382      0.023     23.750      0.000       0.494       0.583\n",
      "windspeed     -0.1966      0.031     -6.441      0.000      -0.257      -0.137\n",
      "==============================================================================\n",
      "Omnibus:                       15.064   Durbin-Watson:                   2.010\n",
      "Prob(Omnibus):                  0.001   Jarque-Bera (JB):               17.995\n",
      "Skew:                          -0.322   Prob(JB):                     0.000124\n",
      "Kurtosis:                       3.657   Cond. No.                         13.9\n",
      "==============================================================================\n",
      "\n",
      "Notes:\n",
      "[1] Standard Errors assume that the covariance matrix of the errors is correctly specified.\n"
     ]
    }
   ],
   "source": [
    "# Print a summary of the linear regression model obtained\n",
    "print(lr2.summary())"
   ]
  },
  {
   "cell_type": "markdown",
   "id": "9a2dfef2-1aab-463d-9a74-7639af2b0a28",
   "metadata": {},
   "source": [
    "##### Residual Analysis Of Training Data"
   ]
  },
  {
   "cell_type": "code",
   "execution_count": 41,
   "id": "60033ee8-b55d-4072-95d9-305b53478631",
   "metadata": {},
   "outputs": [],
   "source": [
    "y_train_pred = lr2.predict(X_train_lm2)"
   ]
  },
  {
   "cell_type": "code",
   "execution_count": 42,
   "id": "a7f504fc-b73f-4c27-8b74-3c55c856aa15",
   "metadata": {},
   "outputs": [
    {
     "name": "stderr",
     "output_type": "stream",
     "text": [
      "C:\\Users\\heman\\AppData\\Local\\Temp\\ipykernel_8484\\3333711255.py:4: UserWarning: \n",
      "\n",
      "`distplot` is a deprecated function and will be removed in seaborn v0.14.0.\n",
      "\n",
      "Please adapt your code to use either `displot` (a figure-level function with\n",
      "similar flexibility) or `histplot` (an axes-level function for histograms).\n",
      "\n",
      "For a guide to updating your code to use the new functions, please see\n",
      "https://gist.github.com/mwaskom/de44147ed2974457ad6372750bbe5751\n",
      "\n",
      "  sns.distplot((res), bins = 20)\n"
     ]
    },
    {
     "data": {
      "text/plain": [
       "Text(0.5, 0, 'Errors')"
      ]
     },
     "execution_count": 42,
     "metadata": {},
     "output_type": "execute_result"
    },
    {
     "data": {
      "image/png": "[encoded data removed]",
      "text/plain": [
       "<Figure size 640x480 with 1 Axes>"
      ]
     },
     "metadata": {},
     "output_type": "display_data"
    }
   ],
   "source": [
    "res = y_train-y_train_pred\n",
    "# Plot the histogram of the error terms\n",
    "fig = plt.figure()\n",
    "sns.distplot((res), bins = 20)\n",
    "fig.suptitle('Error Terms', fontsize = 20)                  # Plot heading \n",
    "plt.xlabel('Errors', fontsize = 18)                         # X-label"
   ]
  },
  {
   "cell_type": "markdown",
   "id": "8da222e0-53b0-4c35-8343-572438c612e8",
   "metadata": {},
   "source": [
    "#### Insights \n",
    "From the above histogram, we could see that the Residuals are normally distributed. Hence our assumption for Linear Regression is valid\n",
    "\n",
    "MAKING PREDICTION USING FINAL MODEL¶ Now that we have fitted the model and checked the assumptions, it's time to go ahead and make predictions using the final model (lr4)"
   ]
  },
  {
   "cell_type": "markdown",
   "id": "302a873e-931b-4868-b50e-cb1cda779ac4",
   "metadata": {},
   "source": [
    "#### Applying the scaling on the test sets"
   ]
  },
  {
   "cell_type": "code",
   "execution_count": 43,
   "id": "1a68bd9a-8577-4c37-ab3a-621b87f3663b",
   "metadata": {},
   "outputs": [],
   "source": [
    "# Apply scaler() to all numeric variables in test dataset. Note: we will only use scaler.transform, \n",
    "# as we want to use the metrics that the model learned from the training data to be applied on the test data. \n",
    "# In other words, we want to prevent the information leak from train to test dataset.\n",
    "\n",
    "num_vars = ['temp', 'atemp', 'hum', 'windspeed','cnt']\n",
    "\n",
    "df_test[num_vars] = scaler.transform(df_test[num_vars])"
   ]
  },
  {
   "cell_type": "code",
   "execution_count": 44,
   "id": "a788c434-1f4d-40fa-8b84-eba181a942ac",
   "metadata": {},
   "outputs": [
    {
     "data": {
      "text/html": [
       "<div>\n",
       "<style scoped>\n",
       "    .dataframe tbody tr th:only-of-type {\n",
       "        vertical-align: middle;\n",
       "    }\n",
       "\n",
       "    .dataframe tbody tr th {\n",
       "        vertical-align: top;\n",
       "    }\n",
       "\n",
       "    .dataframe thead th {\n",
       "        text-align: right;\n",
       "    }\n",
       "</style>\n",
       "<table border=\"1\" class=\"dataframe\">\n",
       "  <thead>\n",
       "    <tr style=\"text-align: right;\">\n",
       "      <th></th>\n",
       "      <th>season</th>\n",
       "      <th>yr</th>\n",
       "      <th>mnth</th>\n",
       "      <th>holiday</th>\n",
       "      <th>weekday</th>\n",
       "      <th>workingday</th>\n",
       "      <th>weathersit</th>\n",
       "      <th>temp</th>\n",
       "      <th>atemp</th>\n",
       "      <th>hum</th>\n",
       "      <th>windspeed</th>\n",
       "      <th>cnt</th>\n",
       "    </tr>\n",
       "  </thead>\n",
       "  <tbody>\n",
       "    <tr>\n",
       "      <th>184</th>\n",
       "      <td>3</td>\n",
       "      <td>0</td>\n",
       "      <td>7</td>\n",
       "      <td>1</td>\n",
       "      <td>1</td>\n",
       "      <td>0</td>\n",
       "      <td>2</td>\n",
       "      <td>0.818182</td>\n",
       "      <td>0.769231</td>\n",
       "      <td>0.649485</td>\n",
       "      <td>0.09375</td>\n",
       "      <td>0.692706</td>\n",
       "    </tr>\n",
       "    <tr>\n",
       "      <th>535</th>\n",
       "      <td>2</td>\n",
       "      <td>1</td>\n",
       "      <td>6</td>\n",
       "      <td>0</td>\n",
       "      <td>3</td>\n",
       "      <td>1</td>\n",
       "      <td>1</td>\n",
       "      <td>0.909091</td>\n",
       "      <td>0.846154</td>\n",
       "      <td>0.608247</td>\n",
       "      <td>0.15625</td>\n",
       "      <td>0.712034</td>\n",
       "    </tr>\n",
       "    <tr>\n",
       "      <th>299</th>\n",
       "      <td>4</td>\n",
       "      <td>0</td>\n",
       "      <td>10</td>\n",
       "      <td>0</td>\n",
       "      <td>4</td>\n",
       "      <td>1</td>\n",
       "      <td>2</td>\n",
       "      <td>0.515152</td>\n",
       "      <td>0.487179</td>\n",
       "      <td>0.835052</td>\n",
       "      <td>0.34375</td>\n",
       "      <td>0.303382</td>\n",
       "    </tr>\n",
       "    <tr>\n",
       "      <th>221</th>\n",
       "      <td>3</td>\n",
       "      <td>0</td>\n",
       "      <td>8</td>\n",
       "      <td>0</td>\n",
       "      <td>3</td>\n",
       "      <td>1</td>\n",
       "      <td>1</td>\n",
       "      <td>0.878788</td>\n",
       "      <td>0.794872</td>\n",
       "      <td>0.432990</td>\n",
       "      <td>0.34375</td>\n",
       "      <td>0.547400</td>\n",
       "    </tr>\n",
       "    <tr>\n",
       "      <th>152</th>\n",
       "      <td>2</td>\n",
       "      <td>0</td>\n",
       "      <td>6</td>\n",
       "      <td>0</td>\n",
       "      <td>4</td>\n",
       "      <td>1</td>\n",
       "      <td>1</td>\n",
       "      <td>0.818182</td>\n",
       "      <td>0.743590</td>\n",
       "      <td>0.309278</td>\n",
       "      <td>0.53125</td>\n",
       "      <td>0.569029</td>\n",
       "    </tr>\n",
       "  </tbody>\n",
       "</table>\n",
       "</div>"
      ],
      "text/plain": [
       "     season  yr  mnth  holiday  weekday  workingday  weathersit      temp  \\\n",
       "184       3   0     7        1        1           0           2  0.818182   \n",
       "535       2   1     6        0        3           1           1  0.909091   \n",
       "299       4   0    10        0        4           1           2  0.515152   \n",
       "221       3   0     8        0        3           1           1  0.878788   \n",
       "152       2   0     6        0        4           1           1  0.818182   \n",
       "\n",
       "        atemp       hum  windspeed       cnt  \n",
       "184  0.769231  0.649485    0.09375  0.692706  \n",
       "535  0.846154  0.608247    0.15625  0.712034  \n",
       "299  0.487179  0.835052    0.34375  0.303382  \n",
       "221  0.794872  0.432990    0.34375  0.547400  \n",
       "152  0.743590  0.309278    0.53125  0.569029  "
      ]
     },
     "execution_count": 44,
     "metadata": {},
     "output_type": "execute_result"
    }
   ],
   "source": [
    "df_test.head()"
   ]
  },
  {
   "cell_type": "code",
   "execution_count": 45,
   "id": "d8d3b45d-3f8a-4335-ab71-13e97da63320",
   "metadata": {},
   "outputs": [
    {
     "data": {
      "text/html": [
       "<div>\n",
       "<style scoped>\n",
       "    .dataframe tbody tr th:only-of-type {\n",
       "        vertical-align: middle;\n",
       "    }\n",
       "\n",
       "    .dataframe tbody tr th {\n",
       "        vertical-align: top;\n",
       "    }\n",
       "\n",
       "    .dataframe thead th {\n",
       "        text-align: right;\n",
       "    }\n",
       "</style>\n",
       "<table border=\"1\" class=\"dataframe\">\n",
       "  <thead>\n",
       "    <tr style=\"text-align: right;\">\n",
       "      <th></th>\n",
       "      <th>season</th>\n",
       "      <th>yr</th>\n",
       "      <th>mnth</th>\n",
       "      <th>holiday</th>\n",
       "      <th>weekday</th>\n",
       "      <th>workingday</th>\n",
       "      <th>weathersit</th>\n",
       "      <th>temp</th>\n",
       "      <th>atemp</th>\n",
       "      <th>hum</th>\n",
       "      <th>windspeed</th>\n",
       "      <th>cnt</th>\n",
       "    </tr>\n",
       "  </thead>\n",
       "  <tbody>\n",
       "    <tr>\n",
       "      <th>count</th>\n",
       "      <td>219.000000</td>\n",
       "      <td>219.000000</td>\n",
       "      <td>219.000000</td>\n",
       "      <td>219.000000</td>\n",
       "      <td>219.000000</td>\n",
       "      <td>219.000000</td>\n",
       "      <td>219.000000</td>\n",
       "      <td>219.000000</td>\n",
       "      <td>219.000000</td>\n",
       "      <td>219.000000</td>\n",
       "      <td>219.000000</td>\n",
       "      <td>219.000000</td>\n",
       "    </tr>\n",
       "    <tr>\n",
       "      <th>mean</th>\n",
       "      <td>2.456621</td>\n",
       "      <td>0.479452</td>\n",
       "      <td>6.474886</td>\n",
       "      <td>0.036530</td>\n",
       "      <td>3.018265</td>\n",
       "      <td>0.698630</td>\n",
       "      <td>1.374429</td>\n",
       "      <td>0.554033</td>\n",
       "      <td>0.532725</td>\n",
       "      <td>0.633950</td>\n",
       "      <td>0.315639</td>\n",
       "      <td>0.520592</td>\n",
       "    </tr>\n",
       "    <tr>\n",
       "      <th>std</th>\n",
       "      <td>1.109463</td>\n",
       "      <td>0.500722</td>\n",
       "      <td>3.421875</td>\n",
       "      <td>0.188034</td>\n",
       "      <td>1.988415</td>\n",
       "      <td>0.459904</td>\n",
       "      <td>0.538843</td>\n",
       "      <td>0.233272</td>\n",
       "      <td>0.213047</td>\n",
       "      <td>0.148943</td>\n",
       "      <td>0.155269</td>\n",
       "      <td>0.218435</td>\n",
       "    </tr>\n",
       "    <tr>\n",
       "      <th>min</th>\n",
       "      <td>1.000000</td>\n",
       "      <td>0.000000</td>\n",
       "      <td>1.000000</td>\n",
       "      <td>0.000000</td>\n",
       "      <td>0.000000</td>\n",
       "      <td>0.000000</td>\n",
       "      <td>1.000000</td>\n",
       "      <td>0.030303</td>\n",
       "      <td>0.025641</td>\n",
       "      <td>0.257732</td>\n",
       "      <td>-0.031250</td>\n",
       "      <td>0.048205</td>\n",
       "    </tr>\n",
       "    <tr>\n",
       "      <th>25%</th>\n",
       "      <td>1.000000</td>\n",
       "      <td>0.000000</td>\n",
       "      <td>4.000000</td>\n",
       "      <td>0.000000</td>\n",
       "      <td>1.000000</td>\n",
       "      <td>0.000000</td>\n",
       "      <td>1.000000</td>\n",
       "      <td>0.363636</td>\n",
       "      <td>0.358974</td>\n",
       "      <td>0.520619</td>\n",
       "      <td>0.218750</td>\n",
       "      <td>0.377531</td>\n",
       "    </tr>\n",
       "    <tr>\n",
       "      <th>50%</th>\n",
       "      <td>2.000000</td>\n",
       "      <td>0.000000</td>\n",
       "      <td>6.000000</td>\n",
       "      <td>0.000000</td>\n",
       "      <td>3.000000</td>\n",
       "      <td>1.000000</td>\n",
       "      <td>1.000000</td>\n",
       "      <td>0.545455</td>\n",
       "      <td>0.538462</td>\n",
       "      <td>0.618557</td>\n",
       "      <td>0.312500</td>\n",
       "      <td>0.524275</td>\n",
       "    </tr>\n",
       "    <tr>\n",
       "      <th>75%</th>\n",
       "      <td>3.000000</td>\n",
       "      <td>1.000000</td>\n",
       "      <td>9.000000</td>\n",
       "      <td>0.000000</td>\n",
       "      <td>5.000000</td>\n",
       "      <td>1.000000</td>\n",
       "      <td>2.000000</td>\n",
       "      <td>0.757576</td>\n",
       "      <td>0.717949</td>\n",
       "      <td>0.742268</td>\n",
       "      <td>0.406250</td>\n",
       "      <td>0.672745</td>\n",
       "    </tr>\n",
       "    <tr>\n",
       "      <th>max</th>\n",
       "      <td>4.000000</td>\n",
       "      <td>1.000000</td>\n",
       "      <td>12.000000</td>\n",
       "      <td>1.000000</td>\n",
       "      <td>6.000000</td>\n",
       "      <td>1.000000</td>\n",
       "      <td>3.000000</td>\n",
       "      <td>0.969697</td>\n",
       "      <td>0.974359</td>\n",
       "      <td>1.000000</td>\n",
       "      <td>0.781250</td>\n",
       "      <td>0.963300</td>\n",
       "    </tr>\n",
       "  </tbody>\n",
       "</table>\n",
       "</div>"
      ],
      "text/plain": [
       "           season          yr        mnth     holiday     weekday  workingday  \\\n",
       "count  219.000000  219.000000  219.000000  219.000000  219.000000  219.000000   \n",
       "mean     2.456621    0.479452    6.474886    0.036530    3.018265    0.698630   \n",
       "std      1.109463    0.500722    3.421875    0.188034    1.988415    0.459904   \n",
       "min      1.000000    0.000000    1.000000    0.000000    0.000000    0.000000   \n",
       "25%      1.000000    0.000000    4.000000    0.000000    1.000000    0.000000   \n",
       "50%      2.000000    0.000000    6.000000    0.000000    3.000000    1.000000   \n",
       "75%      3.000000    1.000000    9.000000    0.000000    5.000000    1.000000   \n",
       "max      4.000000    1.000000   12.000000    1.000000    6.000000    1.000000   \n",
       "\n",
       "       weathersit        temp       atemp         hum   windspeed         cnt  \n",
       "count  219.000000  219.000000  219.000000  219.000000  219.000000  219.000000  \n",
       "mean     1.374429    0.554033    0.532725    0.633950    0.315639    0.520592  \n",
       "std      0.538843    0.233272    0.213047    0.148943    0.155269    0.218435  \n",
       "min      1.000000    0.030303    0.025641    0.257732   -0.031250    0.048205  \n",
       "25%      1.000000    0.363636    0.358974    0.520619    0.218750    0.377531  \n",
       "50%      1.000000    0.545455    0.538462    0.618557    0.312500    0.524275  \n",
       "75%      2.000000    0.757576    0.717949    0.742268    0.406250    0.672745  \n",
       "max      3.000000    0.969697    0.974359    1.000000    0.781250    0.963300  "
      ]
     },
     "execution_count": 45,
     "metadata": {},
     "output_type": "execute_result"
    }
   ],
   "source": [
    "df_test.describe()"
   ]
  },
  {
   "cell_type": "markdown",
   "id": "2d40a6f7-e7b0-4b8a-88d9-7bf07e8b2291",
   "metadata": {},
   "source": [
    "#### Dividing into X_test and y_test¶"
   ]
  },
  {
   "cell_type": "code",
   "execution_count": 46,
   "id": "2c9a9f33-0570-457c-b22d-a48fff502bd0",
   "metadata": {},
   "outputs": [
    {
     "name": "stdout",
     "output_type": "stream",
     "text": [
      "<class 'pandas.core.frame.DataFrame'>\n",
      "Index: 219 entries, 184 to 72\n",
      "Data columns (total 11 columns):\n",
      " #   Column      Non-Null Count  Dtype  \n",
      "---  ------      --------------  -----  \n",
      " 0   season      219 non-null    int32  \n",
      " 1   yr          219 non-null    int32  \n",
      " 2   mnth        219 non-null    int32  \n",
      " 3   holiday     219 non-null    int32  \n",
      " 4   weekday     219 non-null    int32  \n",
      " 5   workingday  219 non-null    int32  \n",
      " 6   weathersit  219 non-null    int32  \n",
      " 7   temp        219 non-null    float64\n",
      " 8   atemp       219 non-null    float64\n",
      " 9   hum         219 non-null    float64\n",
      " 10  windspeed   219 non-null    float64\n",
      "dtypes: float64(4), int32(7)\n",
      "memory usage: 14.5 KB\n"
     ]
    }
   ],
   "source": [
    "y_test = df_test.pop('cnt')\n",
    "X_test = df_test\n",
    "X_test.info()"
   ]
  },
  {
   "cell_type": "code",
   "execution_count": 47,
   "id": "80357b94-508a-4254-b222-8a028489680c",
   "metadata": {},
   "outputs": [
    {
     "name": "stdout",
     "output_type": "stream",
     "text": [
      "<class 'pandas.core.frame.DataFrame'>\n",
      "Index: 219 entries, 184 to 72\n",
      "Data columns (total 5 columns):\n",
      " #   Column      Non-Null Count  Dtype  \n",
      "---  ------      --------------  -----  \n",
      " 0   const       219 non-null    float64\n",
      " 1   yr          219 non-null    int32  \n",
      " 2   weathersit  219 non-null    int32  \n",
      " 3   temp        219 non-null    float64\n",
      " 4   windspeed   219 non-null    float64\n",
      "dtypes: float64(3), int32(2)\n",
      "memory usage: 8.6 KB\n"
     ]
    }
   ],
   "source": [
    "#Selecting the variables that were part of final model.\n",
    "col1=X_train_new.columns\n",
    "col1\n",
    "X_test=X_test[col1]\n",
    "# Adding constant variable to test dataframe\n",
    "X_test_lm2 = sm.add_constant(X_test)\n",
    "X_test_lm2.info()"
   ]
  },
  {
   "cell_type": "code",
   "execution_count": 48,
   "id": "14f57c15-0cb5-43d8-86e2-4dbcfc33fb3f",
   "metadata": {},
   "outputs": [],
   "source": [
    "# Making predictions using the final model (lr6)\n",
    "\n",
    "y_pred = lr2.predict(X_test_lm2)"
   ]
  },
  {
   "cell_type": "markdown",
   "id": "b6aa412f-1932-4caa-a992-609cb86990c6",
   "metadata": {},
   "source": [
    "#### MODEL EVALUATION"
   ]
  },
  {
   "cell_type": "code",
   "execution_count": 49,
   "id": "43e9efea-0ef6-4457-b8bf-ec5072857792",
   "metadata": {},
   "outputs": [
    {
     "data": {
      "image/png": "[encoded data removed]",
      "text/plain": [
       "<Figure size 640x480 with 1 Axes>"
      ]
     },
     "metadata": {},
     "output_type": "display_data"
    }
   ],
   "source": [
    "# Plotting y_test and y_pred to understand the spread\n",
    "\n",
    "fig = plt.figure()\n",
    "plt.scatter(y_test, y_pred, alpha=.5)\n",
    "fig.suptitle('y_test vs y_pred', fontsize = 20)              # Plot heading \n",
    "plt.xlabel('y_test', fontsize = 18)                          # X-label\n",
    "plt.ylabel('y_pred', fontsize = 16) \n",
    "plt.show()"
   ]
  },
  {
   "cell_type": "markdown",
   "id": "55ca2797-334e-4ec0-a5e3-15db4afb2477",
   "metadata": {},
   "source": [
    "#### R^2 Value for TEST¶"
   ]
  },
  {
   "cell_type": "code",
   "execution_count": 53,
   "id": "ad106574-980a-4d88-9b45-3565b27ed3a2",
   "metadata": {},
   "outputs": [],
   "source": [
    "from sklearn.metrics import r2_score\n",
    "r2 =r2_score(y_test, y_pred)"
   ]
  },
  {
   "cell_type": "code",
   "execution_count": 54,
   "id": "bffd41bb-7d2e-46e0-b011-3586f16addfd",
   "metadata": {},
   "outputs": [],
   "source": [
    "# Calculate Adjusted R²\n",
    "n = len(y_test)  # Number of data points in the test set\n",
    "p = X_test.shape[1]  # Number of features (predictors) in the model\n",
    "adjusted_r2 = 1 - (1 - r2) * (n - 1) / (n - p - 1)"
   ]
  },
  {
   "cell_type": "markdown",
   "id": "017ac61a-ce83-4fc3-a166-d9d62b7f4eb8",
   "metadata": {},
   "source": [
    "#### Final Result Comparison¶"
   ]
  },
  {
   "cell_type": "code",
   "execution_count": 56,
   "id": "e61f3f2a-441a-4214-84d3-9b99e0c7b813",
   "metadata": {},
   "outputs": [
    {
     "name": "stdout",
     "output_type": "stream",
     "text": [
      "R²: 0.7073132665099933\n",
      "Adjusted R²: 0.7018424864447594\n"
     ]
    }
   ],
   "source": [
    "print(f\"R²: {r2}\")\n",
    "print(f\"Adjusted R²: {adjusted_r2}\")"
   ]
  },
  {
   "cell_type": "markdown",
   "id": "67635516-b79b-4197-b078-8914a3088c3e",
   "metadata": {},
   "source": [
    "#### FINAL REPORT¶"
   ]
  },
  {
   "cell_type": "markdown",
   "id": "c7f824b0-1549-42be-9a41-2afbb283c395",
   "metadata": {},
   "source": [
    "As per our final Model, the top 3 predictor variables that influences the bike booking are:\n",
    "\n",
    "Temperature (temp) - A coefficient value of ‘0.5382 ’ indicated that a unit increase in temp variable increases rental bike count by 0.5683 units. Weather Situation 3 (weathersit_3) - A coefficient value of -0.0857’ indicated that,  A coefficient value of ‘0.2345’ indicated that a unit increase in yr variable increases the bike hire numbers by 0.2345 units."
   ]
  },
  {
   "cell_type": "code",
   "execution_count": null,
   "id": "dc749b6e-deef-492c-9d7e-e4665d757891",
   "metadata": {},
   "outputs": [],
   "source": []
  }
 ],
 "metadata": {
  "kernelspec": {
   "display_name": "Python 3 (ipykernel)",
   "language": "python",
   "name": "python3"
  },
  "language_info": {
   "codemirror_mode": {
    "name": "ipython",
    "version": 3
   },
   "file_extension": ".py",
   "mimetype": "text/x-python",
   "name": "python",
   "nbconvert_exporter": "python",
   "pygments_lexer": "ipython3",
   "version": "3.12.4"
  }
 },
 "nbformat": 4,
 "nbformat_minor": 5
}
